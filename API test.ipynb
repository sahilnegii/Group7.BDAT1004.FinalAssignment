{
 "cells": [
  {
   "cell_type": "code",
   "execution_count": 1,
   "id": "e3a347dd",
   "metadata": {},
   "outputs": [],
   "source": [
    "# Importing necessary libraries.\n",
    "import requests\n",
    "import time"
   ]
  },
  {
   "cell_type": "code",
   "execution_count": null,
   "id": "6c837355",
   "metadata": {},
   "outputs": [],
   "source": [
    "# Fetching the data from the balldontlie API.\n",
    "while True:\n",
    "    r = requests.get(\"https://www.balldontlie.io/api/v1/season_averages?player_ids[]=28\")\n",
    "    if r.status_code == 200: # it will only return the data when status code is 200.\n",
    "        data = r.json()\n",
    "        print(data)\n",
    "        time.sleep(60)\n",
    "    else:\n",
    "        exit()"
   ]
  },
  {
   "cell_type": "code",
   "execution_count": null,
   "id": "252b41ff",
   "metadata": {},
   "outputs": [],
   "source": [
    "conda install pymongo # First installing the pymongo into conda environment."
   ]
  },
  {
   "cell_type": "code",
   "execution_count": 2,
   "id": "16956661",
   "metadata": {},
   "outputs": [],
   "source": [
    "import pymongo #After installing now we will import it. "
   ]
  },
  {
   "cell_type": "code",
   "execution_count": 3,
   "id": "b9e56edc",
   "metadata": {},
   "outputs": [],
   "source": [
    "from pymongo import MongoClient"
   ]
  },
  {
   "cell_type": "code",
   "execution_count": 12,
   "id": "1e2bab26",
   "metadata": {},
   "outputs": [
    {
     "name": "stdout",
     "output_type": "stream",
     "text": [
      "{'data': [{'games_played': 16, 'player_id': 77, 'season': 2023, 'min': '18:41', 'fgm': 2.94, 'fga': 8.06, 'fg3m': 1.94, 'fg3a': 5.13, 'ftm': 2.88, 'fta': 3.25, 'oreb': 0.5, 'dreb': 1.75, 'reb': 2.25, 'ast': 1.69, 'stl': 0.38, 'blk': 0.25, 'turnover': 0.5, 'pf': 1.44, 'pts': 10.69, 'fg_pct': 0.364, 'fg3_pct': 0.378, 'ft_pct': 0.885}]}\n"
     ]
    },
    {
     "ename": "KeyboardInterrupt",
     "evalue": "",
     "output_type": "error",
     "traceback": [
      "\u001b[1;31m---------------------------------------------------------------------------\u001b[0m",
      "\u001b[1;31mKeyboardInterrupt\u001b[0m                         Traceback (most recent call last)",
      "Cell \u001b[1;32mIn[12], line 19\u001b[0m\n\u001b[0;32m     17\u001b[0m     \u001b[38;5;28mprint\u001b[39m(data)\n\u001b[0;32m     18\u001b[0m     records\u001b[38;5;241m.\u001b[39minsert_one(data)\n\u001b[1;32m---> 19\u001b[0m     time\u001b[38;5;241m.\u001b[39msleep(\u001b[38;5;241m60\u001b[39m)\n\u001b[0;32m     20\u001b[0m \u001b[38;5;28;01melse\u001b[39;00m:\n\u001b[0;32m     21\u001b[0m     exit()\n",
      "\u001b[1;31mKeyboardInterrupt\u001b[0m: "
     ]
    }
   ],
   "source": [
    "# Here we are  parsing the ID and Password. \n",
    "import urllib.parse\n",
    "\n",
    "username = urllib.parse.quote_plus('RajPatel')\n",
    "password = urllib.parse.quote_plus(\"Rp4formongodb@@4\")\n",
    "\n",
    "# With the help of URL that we get from the mongodb atlas we are connecting are python script to Mongodb database.\n",
    "client = MongoClient(\"mongodb+srv://{}:{}@nbaplayers.6fc3bea.mongodb.net/Results?retryWrites=true&w=majority\".format(username, password))\n",
    "\n",
    "# Creating database instant\n",
    "db = client.get_database('Results')\n",
    "records = db.Info\n",
    "\n",
    "while True:\n",
    "    r = requests.get(\"https://www.balldontlie.io/api/v1/season_averages?player_ids[]=77\")\n",
    "    if r.status_code == 200:\n",
    "        data = r.json()\n",
    "        print(data)\n",
    "        records.insert_one(data) # Inserting the data into the database.\n",
    "        time.sleep(60)\n",
    "    else:\n",
    "        exit()"
   ]
  }
 ],
 "metadata": {
  "kernelspec": {
   "display_name": "Python 3 (ipykernel)",
   "language": "python",
   "name": "python3"
  },
  "language_info": {
   "codemirror_mode": {
    "name": "ipython",
    "version": 3
   },
   "file_extension": ".py",
   "mimetype": "text/x-python",
   "name": "python",
   "nbconvert_exporter": "python",
   "pygments_lexer": "ipython3",
   "version": "3.11.5"
  }
 },
 "nbformat": 4,
 "nbformat_minor": 5
}
